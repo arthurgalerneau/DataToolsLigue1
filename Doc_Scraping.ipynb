{
 "cells": [
  {
   "cell_type": "markdown",
   "metadata": {},
   "source": [
    "### Documentation pour l'explication du scraping du site FlashScore dans les archives de la Ligue 1"
   ]
  },
  {
   "cell_type": "markdown",
   "metadata": {},
   "source": [
    "Dans un premier temps nous allons voir les importations qu'on aura besoin"
   ]
  },
  {
   "cell_type": "code",
   "execution_count": 4,
   "metadata": {},
   "outputs": [],
   "source": [
    "from bs4 import BeautifulSoup #bibliothèque de scraping\n",
    "import pandas as pd #Pour stocker les données\n",
    "import time \n",
    "import re #permet d'utiliser re.compile\n",
    "from selenium import webdriver #bibliothèque de scraping"
   ]
  },
  {
   "cell_type": "markdown",
   "metadata": {},
   "source": [
    "Nous avons choisi quelles informations nous voulons scraper dans le site donc nous créons des tableaux pour ces données"
   ]
  },
  {
   "cell_type": "code",
   "execution_count": 5,
   "metadata": {},
   "outputs": [],
   "source": [
    "domiciles=[]  #l'equipe à domicile\n",
    "exterieurs=[] #l'equipe à l'exterieur\n",
    "scoredoms=[]  #le score de l'equipe à domicile\n",
    "scoreexts=[]  #le score de l'equipe à l'exterie\n",
    "resultats=[]  #l'issue du match, le vainqueur ou Nul\n",
    "saisons=[]    #la saison durant laquelle le match a eu lieu"
   ]
  },
  {
   "cell_type": "markdown",
   "metadata": {},
   "source": [
    "Maintenant nous allons faire une boucle afin de récuperer les données sur plusieurs années donc differentes url.\n",
    "\n",
    "    Pour acceder a tous les matchs nous devons appuyer sur le bouton Montrer plus ce qui correspond à la première partie de notre boucle. Pour ce faire il faut d'abord accépter les cookies.\n",
    "    \n",
    "    Notre boucle imbriqué nous permettera de récuperer ensuite tous les matchs durant la saison.\n",
    "    \n",
    "    Ensuite nous insérerons les données dans les tablaux créer au dessus pour enfin les transformer en une DataFrame."
   ]
  },
  {
   "cell_type": "code",
   "execution_count": 6,
   "metadata": {},
   "outputs": [
    {
     "name": "stdout",
     "output_type": "stream",
     "text": [
      "Succès du clique sur Montrer plus de matchs\n",
      "Succès du clique sur Montrer plus de matchs\n",
      "Succès du clique sur Montrer plus de matchs\n",
      "Affichage complet de la saison fini on passe au scraping\n",
      "Nombres de match trouvées : 380.\n",
      "Succès du clique sur Montrer plus de matchs\n",
      "Succès du clique sur Montrer plus de matchs\n",
      "Succès du clique sur Montrer plus de matchs\n",
      "Affichage complet de la saison fini on passe au scraping\n",
      "Nombres de match trouvées : 380.\n",
      "Succès du clique sur Montrer plus de matchs\n",
      "Succès du clique sur Montrer plus de matchs\n",
      "Succès du clique sur Montrer plus de matchs\n",
      "Affichage complet de la saison fini on passe au scraping\n",
      "Nombres de match trouvées : 382.\n",
      "Succès du clique sur Montrer plus de matchs\n",
      "Succès du clique sur Montrer plus de matchs\n",
      "Succès du clique sur Montrer plus de matchs\n",
      "Affichage complet de la saison fini on passe au scraping\n",
      "Nombres de match trouvées : 384.\n",
      "Succès du clique sur Montrer plus de matchs\n",
      "Succès du clique sur Montrer plus de matchs\n",
      "Succès du clique sur Montrer plus de matchs\n",
      "Affichage complet de la saison fini on passe au scraping\n",
      "Nombres de match trouvées : 384.\n"
     ]
    }
   ],
   "source": [
    "for x in range(4,9) : #la boucle permet d'implanter dans l'url chaque saisons\n",
    "\n",
    "    driver=webdriver.Chrome()  #permet d'ouvrir un navigateur \n",
    "    y=x+1\n",
    "    driver.implicitly_wait(1)\n",
    "    url= 'https://www.flashscore.fr/football/france/ligue-1-201'+str(x)+'-201'+str(y)+'/resultats/'\n",
    "    driver.get(url)\n",
    "    \n",
    "    time.sleep(1)\n",
    "    soup = BeautifulSoup(driver.page_source,'html.parser')\n",
    "    time.sleep(5)\n",
    "    \n",
    "    #La boucle permet d'accepter les cookies\n",
    "    Accept_button = soup.find('button', attrs={'id' :\"onetrust-accept-btn-handler\"})\n",
    "\n",
    "    string = '$(\"#'+Accept_button.get('id')+'\").click();'\n",
    "    driver.execute_script(string)\n",
    "    \n",
    "    #Cette boucle permet d'afficher l'ensemble des matchs de la saison en cliquant sur Montrer plus\n",
    "    more_matchs = driver.find_element_by_partial_link_text('Montrer plus de matchs')\n",
    "    present = True\n",
    "    while present == True :\n",
    "        time.sleep(5)\n",
    "        try :\n",
    "            more_matchs.click()\n",
    "            print(\"Succès du clique sur Montrer plus de matchs\")\n",
    "        except:\n",
    "            present = False\n",
    "            print(\"Affichage complet de la saison fini on passe au scraping\")\n",
    "        \n",
    "    \n",
    "    time.sleep(5)\n",
    "    soup1 = BeautifulSoup(driver.page_source,'html.parser')\n",
    "    \n",
    "    #On cherche toutes les div contenant les informations de chaque match\n",
    "    liste_matchs=soup1.find_all('div',class_=re.compile(\"event__match event__match--static\"))\n",
    "    nb_match = len(liste_matchs)\n",
    "    print(\"Nombres de match trouvées : {}.\".format(nb_match))\n",
    "   \n",
    "    #On scrap match par match les informations souhaités\n",
    "    for i in liste_matchs :\n",
    "        \n",
    "        saison=\"201\"+str(x)+\"-201\"+str(y)\n",
    "        \n",
    "        domicile=i.find('div',class_=re.compile(\"event__participant event__participant--home\"))\n",
    "        domicile=domicile.text\n",
    "         \n",
    "        exterieur=i.find('div',class_=re.compile(\"event__participant event__participant--away\"))\n",
    "        exterieur=exterieur.text\n",
    "        \n",
    "        score=i.find('div', class_=\"event__scores fontBold\")\n",
    "        scoredom=score.span.text\n",
    "        scoreext=score.span.next_sibling.next_sibling.text\n",
    "        \n",
    "        scoredom=int(scoredom)\n",
    "        scoreext=int(scoreext)\n",
    "        \n",
    "        #Permet de determiner l'issue du match \n",
    "        if scoredom > scoreext :\n",
    "            resultat=\"VD\"\n",
    "        if scoredom < scoreext :\n",
    "            resultat=\"VE\"\n",
    "        if scoredom == scoreext :\n",
    "            resultat=\"N\"\n",
    "        \n",
    "        #On ajoute les données de chaque match aux tableaux correspondants\n",
    "        domiciles.append(domicile)\n",
    "        exterieurs.append(exterieur)\n",
    "        scoredoms.append(scoredom)\n",
    "        scoreexts.append(scoreext)\n",
    "        resultats.append(resultat)\n",
    "        saisons.append(saison)\n",
    "        \n",
    "    driver.close()"
   ]
  },
  {
   "cell_type": "markdown",
   "metadata": {},
   "source": [
    "On créer ensuite un DataFrame puis on l'ajoute dans un fichier csv afin d'analyser les données"
   ]
  },
  {
   "cell_type": "code",
   "execution_count": 7,
   "metadata": {},
   "outputs": [],
   "source": [
    "matchs=pd.DataFrame({\n",
    "    'saison':saisons,\n",
    "    'equipe_dom':domiciles,\n",
    "    'equipe_ext':exterieurs,\n",
    "    'score_dom':scoredoms,\n",
    "    'score_ext':scoreexts,\n",
    "    'resultat':resultats})\n",
    "\n",
    "matchs.to_csv(r'resultats_matchs.csv',sep=\";\",index=None)"
   ]
  },
  {
   "cell_type": "markdown",
   "metadata": {},
   "source": [
    "On affiche les informations de la Dataframe pour verifier que les données sont bien rentrés"
   ]
  },
  {
   "cell_type": "code",
   "execution_count": 10,
   "metadata": {},
   "outputs": [
    {
     "name": "stdout",
     "output_type": "stream",
     "text": [
      "<class 'pandas.core.frame.DataFrame'>\n",
      "RangeIndex: 1910 entries, 0 to 1909\n",
      "Data columns (total 6 columns):\n",
      " #   Column      Non-Null Count  Dtype \n",
      "---  ------      --------------  ----- \n",
      " 0   saison      1910 non-null   object\n",
      " 1   equipe_dom  1910 non-null   object\n",
      " 2   equipe_ext  1910 non-null   object\n",
      " 3   score_dom   1910 non-null   int64 \n",
      " 4   score_ext   1910 non-null   int64 \n",
      " 5   resultat    1910 non-null   object\n",
      "dtypes: int64(2), object(4)\n",
      "memory usage: 89.7+ KB\n"
     ]
    }
   ],
   "source": [
    "matchs.info()"
   ]
  },
  {
   "cell_type": "markdown",
   "metadata": {},
   "source": [
    "On affiche les premières données pour verifier que tout s'est bien deroulé"
   ]
  },
  {
   "cell_type": "code",
   "execution_count": 11,
   "metadata": {},
   "outputs": [
    {
     "data": {
      "text/html": [
       "<div>\n",
       "<style scoped>\n",
       "    .dataframe tbody tr th:only-of-type {\n",
       "        vertical-align: middle;\n",
       "    }\n",
       "\n",
       "    .dataframe tbody tr th {\n",
       "        vertical-align: top;\n",
       "    }\n",
       "\n",
       "    .dataframe thead th {\n",
       "        text-align: right;\n",
       "    }\n",
       "</style>\n",
       "<table border=\"1\" class=\"dataframe\">\n",
       "  <thead>\n",
       "    <tr style=\"text-align: right;\">\n",
       "      <th></th>\n",
       "      <th>saison</th>\n",
       "      <th>equipe_dom</th>\n",
       "      <th>equipe_ext</th>\n",
       "      <th>score_dom</th>\n",
       "      <th>score_ext</th>\n",
       "      <th>resultat</th>\n",
       "    </tr>\n",
       "  </thead>\n",
       "  <tbody>\n",
       "    <tr>\n",
       "      <th>0</th>\n",
       "      <td>2014-2015</td>\n",
       "      <td>Bordeaux</td>\n",
       "      <td>Montpellier</td>\n",
       "      <td>2</td>\n",
       "      <td>1</td>\n",
       "      <td>VD</td>\n",
       "    </tr>\n",
       "    <tr>\n",
       "      <th>1</th>\n",
       "      <td>2014-2015</td>\n",
       "      <td>Caen</td>\n",
       "      <td>Evian</td>\n",
       "      <td>3</td>\n",
       "      <td>2</td>\n",
       "      <td>VD</td>\n",
       "    </tr>\n",
       "    <tr>\n",
       "      <th>2</th>\n",
       "      <td>2014-2015</td>\n",
       "      <td>Lens</td>\n",
       "      <td>Nantes</td>\n",
       "      <td>1</td>\n",
       "      <td>0</td>\n",
       "      <td>VD</td>\n",
       "    </tr>\n",
       "    <tr>\n",
       "      <th>3</th>\n",
       "      <td>2014-2015</td>\n",
       "      <td>Lorient</td>\n",
       "      <td>Monaco</td>\n",
       "      <td>0</td>\n",
       "      <td>1</td>\n",
       "      <td>VE</td>\n",
       "    </tr>\n",
       "    <tr>\n",
       "      <th>4</th>\n",
       "      <td>2014-2015</td>\n",
       "      <td>Marseille</td>\n",
       "      <td>Bastia</td>\n",
       "      <td>3</td>\n",
       "      <td>0</td>\n",
       "      <td>VD</td>\n",
       "    </tr>\n",
       "  </tbody>\n",
       "</table>\n",
       "</div>"
      ],
      "text/plain": [
       "      saison equipe_dom   equipe_ext  score_dom  score_ext resultat\n",
       "0  2014-2015   Bordeaux  Montpellier          2          1       VD\n",
       "1  2014-2015       Caen        Evian          3          2       VD\n",
       "2  2014-2015       Lens       Nantes          1          0       VD\n",
       "3  2014-2015    Lorient       Monaco          0          1       VE\n",
       "4  2014-2015  Marseille       Bastia          3          0       VD"
      ]
     },
     "execution_count": 11,
     "metadata": {},
     "output_type": "execute_result"
    }
   ],
   "source": [
    "matchs.head()"
   ]
  },
  {
   "cell_type": "code",
   "execution_count": null,
   "metadata": {},
   "outputs": [],
   "source": []
  }
 ],
 "metadata": {
  "kernelspec": {
   "display_name": "Python 3",
   "language": "python",
   "name": "python3"
  },
  "language_info": {
   "codemirror_mode": {
    "name": "ipython",
    "version": 3
   },
   "file_extension": ".py",
   "mimetype": "text/x-python",
   "name": "python",
   "nbconvert_exporter": "python",
   "pygments_lexer": "ipython3",
   "version": "3.7.6"
  }
 },
 "nbformat": 4,
 "nbformat_minor": 4
}
