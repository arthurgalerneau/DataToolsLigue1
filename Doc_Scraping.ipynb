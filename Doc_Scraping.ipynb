{
 "cells": [
  {
   "cell_type": "markdown",
   "metadata": {},
   "source": [
    "### Documentation pour l'explication du scraping du site FlashScore dans les archives de la Ligue 1"
   ]
  },
  {
   "cell_type": "markdown",
   "metadata": {},
   "source": [
    "Dans un premier temps nous allons voir les importations qu'on aura besoin"
   ]
  },
  {
   "cell_type": "code",
   "execution_count": 23,
   "metadata": {},
   "outputs": [],
   "source": [
    "from bs4 import BeautifulSoup #ezaezae\n",
    "import pandas as pd #ezaezae\n",
    "import time #ezaezae\n",
    "import re #eazezae\n",
    "from selenium import webdriver #zaezaezae"
   ]
  },
  {
   "cell_type": "markdown",
   "metadata": {},
   "source": [
    "Nous avons choisi quelles informations nous voulons scraper dans le site donc nous créons des tableaux pour ces données"
   ]
  },
  {
   "cell_type": "code",
   "execution_count": 20,
   "metadata": {},
   "outputs": [],
   "source": [
    "domiciles=[]\n",
    "exterieurs=[]\n",
    "scoredoms=[]\n",
    "scoreexts=[]\n",
    "resultats=[]\n",
    "saisons=[]"
   ]
  },
  {
   "cell_type": "markdown",
   "metadata": {},
   "source": [
    "Maintenant nous allons faire une boucle afin de récuperer les données sur plusieurs années donc differentes url.\n",
    "\n",
    "    Pour acceder a tous les matchs nous devons appuyer sur le bouton affciher plus ce qui correspond à la première partie de notre boucle.\n",
    "    \n",
    "    Notre boucle imbriqué nous permettera de récuperer ensuite tous les matchs durant la saisons.\n",
    "    \n",
    "    Ensuite nous insérerons les données dans les tablaux créer au dessus."
   ]
  },
  {
   "cell_type": "code",
   "execution_count": 21,
   "metadata": {},
   "outputs": [
    {
     "name": "stdout",
     "output_type": "stream",
     "text": [
      "Affichage complet de la saison fini on passe au scraping\n",
      "Nombres de match trouvées : 104.\n",
      "Affichage complet de la saison fini on passe au scraping\n",
      "Nombres de match trouvées : 105.\n",
      "Affichage complet de la saison fini on passe au scraping\n",
      "Nombres de match trouvées : 103.\n",
      "Affichage complet de la saison fini on passe au scraping\n",
      "Nombres de match trouvées : 107.\n",
      "Affichage complet de la saison fini on passe au scraping\n",
      "Nombres de match trouvées : 106.\n"
     ]
    }
   ],
   "source": [
    "for x in range(4,9) :\n",
    "\n",
    "    driver=webdriver.Chrome()\n",
    "    y=x+1\n",
    "    driver.implicitly_wait(1)\n",
    "    url= 'https://www.flashscore.fr/football/france/ligue-1-201'+str(x)+'-201'+str(y)+'/resultats/'\n",
    "    driver.get(url)\n",
    "    \n",
    "    time.sleep(1)\n",
    "    soup = BeautifulSoup(driver.page_source,'html.parser')\n",
    "    time.sleep(5)\n",
    "    Accept_button = soup.find('button', attrs={'id' :\"onetrust-accept-btn-handler\"})\n",
    "\n",
    "    string = '$(\"#'+Accept_button.get('id')+'\").click();'\n",
    "    driver.execute_script(string)\n",
    "    \n",
    "    more_matchs = driver.find_element_by_partial_link_text('Montrer plus de matchs')\n",
    "    present = True\n",
    "    while present == True :\n",
    "        time.sleep(5)\n",
    "        try :\n",
    "            more_matchs.click()\n",
    "            print(\"Succès du clique sur Montrer plus de matchs\")\n",
    "        except:\n",
    "            present = False\n",
    "            print(\"Affichage complet de la saison fini on passe au scraping\")\n",
    "        \n",
    "    \n",
    "    time.sleep(5)\n",
    "    soup1 = BeautifulSoup(driver.page_source,'html.parser')\n",
    "    liste_matchs=soup1.find_all('div',class_=re.compile(\"event__match event__match--static\"))\n",
    "    nb_match = len(liste_matchs)\n",
    "    print(\"Nombres de match trouvées : {}.\".format(nb_match))\n",
    "   \n",
    "    for i in liste_matchs :\n",
    "        saison=\"201\"+str(x)+\"-201\"+str(y)\n",
    "        \n",
    "        domicile=i.find('div',class_=re.compile(\"event__participant event__participant--home\"))\n",
    "        domicile=domicile.text\n",
    "         \n",
    "        exterieur=i.find('div',class_=re.compile(\"event__participant event__participant--away\"))\n",
    "        exterieur=exterieur.text\n",
    "        \n",
    "        score=i.find('div', class_=\"event__scores fontBold\")\n",
    "        scoredom=score.span.text\n",
    "        scoreext=score.span.next_sibling.next_sibling.text\n",
    "        \n",
    "        scoredom=int(scoredom)\n",
    "        scoreext=int(scoreext)\n",
    "        \n",
    "        if scoredom > scoreext :\n",
    "            resultat=\"VD\"\n",
    "        if scoredom < scoreext :\n",
    "            resultat=\"VE\"\n",
    "        if scoredom == scoreext :\n",
    "            resultat=\"N\"\n",
    "        \n",
    "        domiciles.append(domicile)\n",
    "        exterieurs.append(exterieur)\n",
    "        scoredoms.append(scoredom)\n",
    "        scoreexts.append(scoreext)\n",
    "        resultats.append(resultat)\n",
    "        saisons.append(saison)\n",
    "        \n",
    "    driver.close()"
   ]
  },
  {
   "cell_type": "markdown",
   "metadata": {},
   "source": [
    "On créer ensuite un DataFrame puis on l'ajoute dans un fichier csv afin d'analyser les données"
   ]
  },
  {
   "cell_type": "code",
   "execution_count": 22,
   "metadata": {},
   "outputs": [],
   "source": [
    "matchs=pd.DataFrame({\n",
    "    'saison':saisons,\n",
    "    'equipe_dom':domiciles,\n",
    "    'equipe_ext':exterieurs,\n",
    "    'score_dom':scoredoms,\n",
    "    'score_ext':scoreexts,\n",
    "    'resultat':resultats})\n",
    "\n",
    "matchs.to_csv(r'resultats_matchs.csv',sep=\";\",index=None)"
   ]
  }
 ],
 "metadata": {
  "kernelspec": {
   "display_name": "Python 3",
   "language": "python",
   "name": "python3"
  },
  "language_info": {
   "codemirror_mode": {
    "name": "ipython",
    "version": 3
   },
   "file_extension": ".py",
   "mimetype": "text/x-python",
   "name": "python",
   "nbconvert_exporter": "python",
   "pygments_lexer": "ipython3",
   "version": "3.7.6"
  }
 },
 "nbformat": 4,
 "nbformat_minor": 4
}
